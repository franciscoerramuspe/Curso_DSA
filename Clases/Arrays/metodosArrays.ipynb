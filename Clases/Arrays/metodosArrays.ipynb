{
 "cells": [
  {
   "cell_type": "markdown",
   "id": "95a62827",
   "metadata": {},
   "source": [
    "# Metodos de Arrays"
   ]
  },
  {
   "cell_type": "markdown",
   "id": "7d358f22",
   "metadata": {},
   "source": [
    "Un \"array\" es una estructura de datos que almacena un conjunto ordenado de valores. Se puede pensar en un array como una lista de elementos, donde cada elemento tiene una posición específica."
   ]
  },
  {
   "cell_type": "markdown",
   "id": "e1490605",
   "metadata": {},
   "source": [
    "En esta Notebook, exploraremos algunos de los métodos más comunes para manipular arrays en Python."
   ]
  },
  {
   "cell_type": "markdown",
   "id": "36635871",
   "metadata": {},
   "source": [
    "Métodos de arrays:"
   ]
  },
  {
   "cell_type": "markdown",
   "id": "a98b4b30",
   "metadata": {},
   "source": [
    "<ul>\n",
    "    <li><b>append(elementoAInsertar):</b> agrega un elemento (elementoAInsertar) al final del array.</li>\n",
    "<li><b>extend(iterable):</b> agrega todos los elementos de un iterable (puede ser un array, un set, un string, etc) al final del array.</li>\n",
    "<li><b>insert(posicionAInsertar, elementoAInsertar):</b> inserta un elemento (elementoAInsertar) en una posición dada (posicionAInsertar).</li>\n",
    "<li><b>remove(elementoARemover):</b> elimina la primera ocurrencia de un elemento (elementoARemover) en el array.</li>\n",
    "<li><b>pop([posicion]):</b> elimina y devuelve el elemento en la posición dada ( [posicion] ) o el último elemento si no se especifica una posición.</li>\n",
    "<li><b>index(elementoABuscar, indiceInicial, indicieFinal):</b> Si le pasamos un parametro, devuelve la posición de la primera aparición del elemento que indicamos en el array. Tambien podemos usar los tres parametros, indicando: (elementoABuscar, indiceInicial, indiceFinal)</li>\n",
    "<li><b>count(elementoAContar):</b> cuenta el número de veces que aparece un elemento (elementoAContar) en el array.</li>\n",
    "<li><b>reverse():</b> invierte el orden de los elementos en el array.</li>\n",
    "<li><b>sort():</b> Si no le pasamos ningun parametro, ordena los elementos en el array en orden ascendente. Se puede pasar el parámetro opcional (reverse=True) al método. Este parámetro indica que se debe ordenar la lista en orden descendente en lugar de orden ascendente.</li>\n",
    "</ul>"
   ]
  },
  {
   "cell_type": "markdown",
   "id": "840248ff",
   "metadata": {},
   "source": [
    "## Ejercicios"
   ]
  },
  {
   "cell_type": "code",
   "execution_count": 7,
   "id": "a4e9e970",
   "metadata": {},
   "outputs": [],
   "source": [
    "# Escriba un programa que solicite al usuario ingresar una lista de números enteros \n",
    "#  y los agregue uno por uno al final de un array. \n",
    "#  Una vez que se hayan agregado todos los elementos, imprima el array resultante.\n",
    "\n"
   ]
  },
  {
   "cell_type": "code",
   "execution_count": 8,
   "id": "008940f9",
   "metadata": {},
   "outputs": [],
   "source": [
    "# Escriba un programa que cree dos arrays, uno con los números del 1 al 5 \n",
    "# y otro con los números del 6 al 10. \n",
    "# Luego, utilice el método extend() para agregar los elementos \n",
    "# del segundo array al final del primer array. Imprima el primer array resultante.\n",
    "    \n",
    "    "
   ]
  },
  {
   "cell_type": "code",
   "execution_count": 9,
   "id": "6b2717c8",
   "metadata": {},
   "outputs": [],
   "source": [
    "# Escriba un programa que solicite al usuario ingresar una lista \n",
    "# de números enteros y un número entero adicional. \n",
    "# Inserte el número adicional en la posición media del array \n",
    "# (si el array tiene un número par de elementos, \n",
    "# inserte el número en la posición a la derecha de la mitad). Imprima el array resultante.\n",
    "\n"
   ]
  },
  {
   "cell_type": "code",
   "execution_count": 10,
   "id": "0fc5192b",
   "metadata": {},
   "outputs": [],
   "source": [
    "# Escriba un programa que cree un array con algunos \n",
    "# números enteros duplicados. Utilice el método remove() \n",
    "# para eliminar una de las ocurrencias de un número específico en el array.\n",
    "# Imprima el array resultante.\n",
    "\n"
   ]
  },
  {
   "cell_type": "code",
   "execution_count": 11,
   "id": "53979919",
   "metadata": {},
   "outputs": [],
   "source": [
    "# Escriba un programa que cree un array con algunos números enteros.\n",
    "# Utilice el método pop() para eliminar el segundo elemento del array.\n",
    "# Imprima el array resultante.\n",
    "\n"
   ]
  },
  {
   "cell_type": "code",
   "execution_count": 12,
   "id": "9179f35c",
   "metadata": {},
   "outputs": [],
   "source": [
    "# Escriba un programa que cree un array con algunos números enteros. \n",
    "# Utilice el método sort() para ordenar los elementos del array en orden ascendente.\n",
    "# Luego, utilice el método sort() nuevamente para ordenar los elementos del array \n",
    "# en orden descendente. Imprima el array resultante después de cada llamada al método sort().\n",
    "\n"
   ]
  }
 ],
 "metadata": {
  "kernelspec": {
   "display_name": "Python 3 (ipykernel)",
   "language": "python",
   "name": "python3"
  },
  "language_info": {
   "codemirror_mode": {
    "name": "ipython",
    "version": 3
   },
   "file_extension": ".py",
   "mimetype": "text/x-python",
   "name": "python",
   "nbconvert_exporter": "python",
   "pygments_lexer": "ipython3",
   "version": "3.9.13"
  }
 },
 "nbformat": 4,
 "nbformat_minor": 5
}
