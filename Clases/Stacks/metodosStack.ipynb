{
 "cells": [
  {
   "attachments": {},
   "cell_type": "markdown",
   "metadata": {},
   "source": [
    "# Stacks en Python\n",
    "\n",
    "Un Stack (pila) es una estructura de datos que funciona con el principio LIFO (last in, first out). En una pila, los elementos se agregan y eliminan desde el tope de la misma. En Python, podemos utilizar una lista para implementar una pila.\n",
    "\n",
    "En esta Notebook, exploraremos algunos de los métodos más comunes para manipular Stacks en Python.\n",
    "\n",
    "Métodos de Stack\n",
    "\n",
    "- ***append(item)***: agrega un elemento al tope de la pila.\n",
    "- ***pop()***: elimina y devuelve el elemento del tope de la pila.\n",
    "- ***peek()***: devuelve el elemento del tope de la pila sin eliminarlo.\n",
    "- ***clear()***: elimina todos los elementos de la pila.\n",
    "- ***count(item)***: cuenta la cantidad de veces que aparece un elemento en la pila.\n",
    "- ***index(item)***: devuelve el índice del primer elemento encontrado en la pila.\n",
    "- ***reverse()***: invierte el orden de los elementos en la pila.\n",
    "\n",
    "## Ejercicios"
   ]
  },
  {
   "cell_type": "code",
   "execution_count": null,
   "metadata": {},
   "outputs": [],
   "source": [
    "# Crea una lista llamada stack con los siguientes valores:\n",
    "# [1, 2, 3, 4, 5]\n",
    "\n"
   ]
  },
  {
   "cell_type": "code",
   "execution_count": null,
   "metadata": {},
   "outputs": [],
   "source": [
    "# Usa el método append() para agregar el valor 6 al tope de la pila. \n",
    "# Luego, utiliza el método pop() para eliminar y guardar el valor del tope de la pila. \n",
    "# Imprime el valor eliminado y la Stack resultante.\n",
    "\n"
   ]
  },
  {
   "cell_type": "code",
   "execution_count": null,
   "metadata": {},
   "outputs": [],
   "source": [
    "# Crea una función llamada palindromo(palabra) que recibe una palabra como argumento. \n",
    "# Devuelve True si la palabra es un palíndromo (es decir, se lee igual al derecho y al revés) o False en caso contrario. \n",
    "# Utiliza una Stack para comparar las letras de la palabra desde ambos extremos.\n",
    "\n"
   ]
  },
  {
   "cell_type": "code",
   "execution_count": null,
   "metadata": {},
   "outputs": [],
   "source": [
    "# Crea una Stack llamada notas con los siguientes valores:\n",
    "# [10, 7, 8, 9, 9, 5, 6, 8, 7, 4]\n",
    "\n"
   ]
  },
  {
   "cell_type": "code",
   "execution_count": null,
   "metadata": {},
   "outputs": [],
   "source": [
    "# Crea una nueva lista llamada promedios que contenga los promedios de las notas acumuladas hasta cada posición de la lista original. \n",
    "# Utiliza una Stack para acumular las notas y calcular los promedios.\n",
    "\n"
   ]
  }
 ],
 "metadata": {
  "kernelspec": {
   "display_name": "Python 3",
   "language": "python",
   "name": "python3"
  },
  "language_info": {
   "name": "python",
   "version": "3.11.0"
  },
  "orig_nbformat": 4,
  "vscode": {
   "interpreter": {
    "hash": "ee6a9f6861ea330318c02b3a6d9efbd1abd8633292b4b7d05428423d063c7051"
   }
  }
 },
 "nbformat": 4,
 "nbformat_minor": 2
}
