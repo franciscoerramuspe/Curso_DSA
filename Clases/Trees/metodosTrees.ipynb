{
 "cells": [
  {
   "attachments": {},
   "cell_type": "markdown",
   "metadata": {},
   "source": [
    "# Trees en Python\n",
    "\n",
    "Los árboles son una estructura de datos no lineal que se utiliza para representar jerarquías. Cada nodo en un árbol puede tener cero o más nodos hijos, y un nodo que no tiene hijos se llama hoja. El nodo en la parte superior del árbol se llama raíz. Los árboles se utilizan ampliamente en la programación para representar estructuras como árboles genealógicos, árboles de directorios, árboles de decisiones, entre otros.\n",
    "\n",
    "## Métodos \n",
    "\n",
    "- ***insert()***\n",
    "Este método se utiliza para insertar un nuevo nodo en el árbol. Toma como entrada el valor del nodo que se va a insertar y lo coloca en el lugar correcto en el árbol según su valor. Si el árbol está vacío, el nodo se convierte en la raíz del árbol.\n",
    "\n",
    "- ***delete()***\n",
    "Este método se utiliza para eliminar un nodo del árbol. Toma como entrada el valor del nodo que se va a eliminar y busca el nodo en el árbol. Si el nodo tiene hijos, se realiza una eliminación compleja que implica la reorganización del árbol para mantener su estructura. Si el nodo no tiene hijos, se elimina simplemente.\n",
    "\n",
    "- ***search()***\n",
    "Este método se utiliza para buscar un nodo en el árbol. Toma como entrada el valor del nodo que se está buscando y busca el nodo en el árbol. Si el nodo se encuentra, devuelve el nodo. Si no se encuentra, devuelve None.\n",
    "\n",
    "- ***traverse()***\n",
    "Este método se utiliza para recorrer todos los nodos del árbol. Hay tres tipos de recorrido: preorden, inorden y postorden. En el recorrido preorden, se visita primero la raíz, luego el subárbol izquierdo y, finalmente, el subárbol derecho. En el recorrido inorden, se visita primero el subárbol izquierdo, luego la raíz y, finalmente, el subárbol derecho. En el recorrido postorden, se visita primero el subárbol izquierdo, luego el subárbol derecho y, finalmente, la raíz.\n",
    "\n",
    "Hay 3 algoritmos para implementar traverse que son usando comunmente:\n",
    "\n",
    "#### Recorrido en orden (inorder)\n",
    "\n",
    "El recorrido en orden se llama así porque visitamos los nodos en el orden \"izquierda - raíz - derecha\". En un árbol binario de búsqueda, el recorrido en orden visita los nodos en orden ascendente. Aquí hay un ejemplo de cómo implementar el recorrido en orden para imprimir los nodos de un árbol binario:"
   ]
  },
  {
   "cell_type": "code",
   "execution_count": null,
   "metadata": {},
   "outputs": [],
   "source": [
    "class Nodo:\n",
    "    def __init__(self, valor):\n",
    "        self.valor = valor\n",
    "        self.izquierda = None\n",
    "        self.derecha = None\n",
    "\n",
    "    def imprimir_inorden(self):\n",
    "        if self.izquierda:\n",
    "            self.izquierda.imprimir_inorden()\n",
    "        print(self.valor)\n",
    "        if self.derecha:\n",
    "            self.derecha.imprimir_inorden()\n"
   ]
  },
  {
   "attachments": {},
   "cell_type": "markdown",
   "metadata": {},
   "source": [
    "#### Recorrido en preorden (preorder)\n",
    "\n",
    "El recorrido en preorden se llama así porque visitamos los nodos en el orden \"raíz - izquierda - derecha\". Aquí hay un ejemplo de cómo implementar el recorrido en preorden para imprimir los nodos de un árbol binario:"
   ]
  },
  {
   "cell_type": "code",
   "execution_count": null,
   "metadata": {},
   "outputs": [],
   "source": [
    "class Nodo:\n",
    "    def __init__(self, valor):\n",
    "        self.valor = valor\n",
    "        self.izquierda = None\n",
    "        self.derecha = None\n",
    "\n",
    "    def imprimir_preorden(self):\n",
    "        print(self.valor)\n",
    "        if self.izquierda:\n",
    "            self.izquierda.imprimir_preorden()\n",
    "        if self.derecha:\n",
    "            self.derecha.imprimir_preorden()\n"
   ]
  },
  {
   "attachments": {},
   "cell_type": "markdown",
   "metadata": {},
   "source": [
    "#### Recorrido en postorden (postorder)\n",
    "\n",
    "El recorrido en postorden se llama así porque visitamos los nodos en el orden \"izquierda - derecha - raíz\". Aquí hay un ejemplo de cómo implementar el recorrido en postorden para imprimir los nodos de un árbol binario:"
   ]
  },
  {
   "cell_type": "code",
   "execution_count": null,
   "metadata": {},
   "outputs": [],
   "source": [
    "class Nodo:\n",
    "    def __init__(self, valor):\n",
    "        self.valor = valor\n",
    "        self.izquierda = None\n",
    "        self.derecha = None\n",
    "\n",
    "    def imprimir_postorden(self):\n",
    "        if self.izquierda:\n",
    "            self.izquierda.imprimir_postorden()\n",
    "        if self.derecha:\n",
    "            self.derecha.imprimir_postorden()\n",
    "        print(self.valor)\n"
   ]
  },
  {
   "attachments": {},
   "cell_type": "markdown",
   "metadata": {},
   "source": [
    "## Ejemplos y Ejercicios\n",
    "\n",
    "### Ejemplo 1: Árbol Genealógico\n",
    "\n",
    "Supongamos que queremos representar el árbol genealógico de una familia. Podemos utilizar un árbol donde la raíz es la persona más antigua de la familia, y cada nodo hijo representa un descendiente directo. Para crear el árbol, podemos utilizar el método insert(). Por ejemplo:"
   ]
  },
  {
   "cell_type": "code",
   "execution_count": null,
   "metadata": {},
   "outputs": [],
   "source": [
    "class TreeNode:\n",
    "    def __init__(self, name):\n",
    "        self.name = name\n",
    "        self.children = []\n",
    "        \n",
    "    def insert(self, child):\n",
    "        self.children.append(child)\n",
    "\n",
    "root = TreeNode(\"Abuelo\")\n",
    "hijo1 = TreeNode(\"Hijo 1\")\n",
    "hijo2 = TreeNode(\"Hijo 2\")\n",
    "nieto1 = TreeNode(\"Nieto 1\")\n",
    "nieto2 = TreeNode(\"Nieto 2\")\n",
    "\n",
    "root.insert(hijo1)\n",
    "root.insert(hijo2)\n",
    "hijo1.insert(nieto1)\n",
    "hijo2.insert(nieto2)\n"
   ]
  },
  {
   "attachments": {},
   "cell_type": "markdown",
   "metadata": {},
   "source": [
    "En este ejemplo, creamos un árbol con el abuelo como raíz, dos hijos y dos nietos. Podemos imprimir el árbol completo utilizando el método traverse():"
   ]
  },
  {
   "cell_type": "code",
   "execution_count": null,
   "metadata": {},
   "outputs": [],
   "source": [
    "def traverse(self):\n",
    "    print(self.name)\n",
    "    for child in self.children:\n",
    "        child.traverse()\n",
    "\n",
    "root.traverse()\n"
   ]
  },
  {
   "attachments": {},
   "cell_type": "markdown",
   "metadata": {},
   "source": [
    "### Ejemplo 2: Árbol de Familia\n",
    "\n",
    "Supongamos que queremos representar la estructura de una familia. Podemos utilizar un árbol donde cada nodo representa un miembro de la familia y cada nodo hijo representa un hijo del miembro. Para crear el árbol, podemos utilizar el método add_child(), get_children(), get_parent() y remove_child(). Por ejemplo:"
   ]
  },
  {
   "cell_type": "code",
   "execution_count": null,
   "metadata": {},
   "outputs": [],
   "source": [
    "class TreeNode:\n",
    "    def __init__(self, name, gender):\n",
    "        self.name = name\n",
    "        self.gender = gender\n",
    "        self.children = []\n",
    "        self.parent = None\n",
    "\n",
    "    def add_child(self, child):\n",
    "        child.parent = self\n",
    "        self.children.append(child)\n",
    "\n",
    "    def get_children(self):\n",
    "        return self.children\n",
    "\n",
    "    def get_parent(self):\n",
    "        return self.parent\n",
    "\n",
    "    def remove_child(self, child):\n",
    "        self.children.remove(child)\n",
    "\n",
    "abuelo = TreeNode(\"Abuelo\", \"M\")\n",
    "padre = TreeNode(\"Padre\", \"M\")\n",
    "madre = TreeNode(\"Madre\", \"F\")\n",
    "hijo1 = TreeNode(\"Hijo 1\", \"M\")\n",
    "hijo2 = TreeNode(\"Hijo 2\", \"F\")\n",
    "\n",
    "abuelo.add_child(padre)\n",
    "abuelo.add_child(madre)\n",
    "padre.add_child(hijo1)\n",
    "madre.add_child(hijo2)\n"
   ]
  },
  {
   "attachments": {},
   "cell_type": "markdown",
   "metadata": {},
   "source": [
    "En este ejemplo, creamos un árbol con el abuelo como raíz, dos hijos y dos nietos. Cada nodo tiene un nombre y un género. Para agregar un hijo, utilizamos el método add_child() y para obtener los hijos de un nodo, utilizamos el método get_children(). También podemos obtener el padre de un nodo utilizando el método get_parent(). Además, podemos eliminar un hijo utilizando el método remove_child(). Por ejemplo, si queremos eliminar al hijo 1 del padre, podemos hacer lo siguiente:"
   ]
  },
  {
   "cell_type": "code",
   "execution_count": null,
   "metadata": {},
   "outputs": [],
   "source": [
    "padre.remove_child(hijo1)"
   ]
  },
  {
   "attachments": {},
   "cell_type": "markdown",
   "metadata": {},
   "source": [
    "### Ejercicio: Árbol de Empleados\n",
    "Supongamos que queremos representar la estructura jerárquica de una empresa. Podemos utilizar un árbol donde cada nodo representa un empleado y cada nodo hijo representa un subordinado directo del empleado. Para crear el árbol, podemos utilizar el método add_child(), get_children(), get_parent() y remove_child(). Además, podemos utilizar el método traverse() para imprimir la estructura jerárquica completa de la empresa. Aquí hay un esqueleto de código para comenzar:"
   ]
  },
  {
   "cell_type": "code",
   "execution_count": 1,
   "metadata": {},
   "outputs": [],
   "source": [
    "class Employee:\n",
    "    def __init__(self, name, title):\n",
    "        self.name = name\n",
    "        self.title = title\n",
    "        self.children = []\n",
    "        self.parent = None\n",
    "\n",
    "    def add_child(self, child):\n",
    "        child.parent = self\n",
    "        self.children.append(child)\n",
    "\n",
    "    def get_children(self):\n",
    "        return self.children\n",
    "\n",
    "    def get_parent(self):\n",
    "        return self.parent\n",
    "\n",
    "    def remove_child(self, child):\n",
    "        self.children.remove(child)\n",
    "\n",
    "    def traverse(self):\n",
    "        print(self.name, self.title)\n",
    "        for child in self.children:\n",
    "            child.traverse()\n"
   ]
  },
  {
   "cell_type": "code",
   "execution_count": 2,
   "metadata": {},
   "outputs": [
    {
     "name": "stdout",
     "output_type": "stream",
     "text": [
      "John Smith CEO\n",
      "Jane Doe VP\n",
      "Alice Brown Director\n",
      "Karen Chen Manager\n",
      "Alex Kim Manager\n",
      "Mike Lee Director\n",
      "Chris Lee Manager\n",
      "Lisa Park Manager\n",
      "Bob Johnson VP\n"
     ]
    }
   ],
   "source": [
    "# Creamos el CEO de la empresa\n",
    "ceo = Employee(\"John Smith\", \"CEO\")\n",
    "\n",
    "# Creamos algunos empleados de nivel inferior\n",
    "vp1 = Employee(\"Jane Doe\", \"VP\")\n",
    "vp2 = Employee(\"Bob Johnson\", \"VP\")\n",
    "director1 = Employee(\"Alice Brown\", \"Director\")\n",
    "director2 = Employee(\"Mike Lee\", \"Director\")\n",
    "manager1 = Employee(\"Karen Chen\", \"Manager\")\n",
    "manager2 = Employee(\"Alex Kim\", \"Manager\")\n",
    "manager3 = Employee(\"Chris Lee\", \"Manager\")\n",
    "manager4 = Employee(\"Lisa Park\", \"Manager\")\n",
    "\n",
    "# Construimos el árbol de empleados\n",
    "ceo.add_child(vp1)\n",
    "ceo.add_child(vp2)\n",
    "vp1.add_child(director1)\n",
    "vp1.add_child(director2)\n",
    "director1.add_child(manager1)\n",
    "director1.add_child(manager2)\n",
    "director2.add_child(manager3)\n",
    "director2.add_child(manager4)\n",
    "\n",
    "# Imprimimos la estructura jerárquica completa de la empresa\n",
    "ceo.traverse()\n"
   ]
  },
  {
   "attachments": {},
   "cell_type": "markdown",
   "metadata": {},
   "source": [
    "Ahora, utiliza los métodos add_child(), get_children(), get_parent() y remove_child() para hacer lo siguiente:\n",
    "\n",
    "1. Agrega un nuevo empleado como subordinado directo de Karen Chen.\n",
    "2. Cambia el título del empleado Chris Lee a \"Senior Manager\".\n",
    "3. Elimina al empleado Mike Lee de la estructura de árbol.\n",
    "\n",
    "Finalmente, utiliza el método traverse() para imprimir la nueva estructura jerárquica completa de la empresa."
   ]
  },
  {
   "cell_type": "code",
   "execution_count": null,
   "metadata": {},
   "outputs": [],
   "source": []
  },
  {
   "cell_type": "markdown",
   "metadata": {},
   "source": []
  }
 ],
 "metadata": {
  "kernelspec": {
   "display_name": "Python 3",
   "language": "python",
   "name": "python3"
  },
  "language_info": {
   "codemirror_mode": {
    "name": "ipython",
    "version": 3
   },
   "file_extension": ".py",
   "mimetype": "text/x-python",
   "name": "python",
   "nbconvert_exporter": "python",
   "pygments_lexer": "ipython3",
   "version": "3.11.0"
  },
  "orig_nbformat": 4,
  "vscode": {
   "interpreter": {
    "hash": "ee6a9f6861ea330318c02b3a6d9efbd1abd8633292b4b7d05428423d063c7051"
   }
  }
 },
 "nbformat": 4,
 "nbformat_minor": 2
}
