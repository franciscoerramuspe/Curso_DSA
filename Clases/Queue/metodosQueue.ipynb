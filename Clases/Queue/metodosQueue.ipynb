{
 "cells": [
  {
   "attachments": {},
   "cell_type": "markdown",
   "metadata": {},
   "source": [
    "# Queues en Python\n",
    "\n",
    "Una Queue (cola) es una estructura de datos que utiliza el principio FIFO (First In, First Out), lo que significa que el primer elemento que se agrega a la cola es el primer elemento que se elimina. En Python, podemos utilizar la clase queue.Queue para crear y manipular colas.\n",
    "\n",
    "En esta Notebook, exploraremos algunos de los métodos más comunes para manipular Queues en Python.\n",
    "\n",
    "Métodos de Queue\n",
    "\n",
    "- ***qsize()***: devuelve el número de elementos en la cola.\n",
    "- ***empty()***: devuelve True si la cola está vacía, False en caso contrario.\n",
    "- ***full()***: devuelve True si la cola está llena, False en caso contrario.\n",
    "- ***put(item)***: agrega un elemento a la cola.\n",
    "- ***get()***: elimina y devuelve el elemento más antiguo de la cola.\n",
    "- ***put_nowait(item)***: agrega un elemento a la cola, pero genera un error si la cola está llena.\n",
    "- ***get_nowait()***: elimina y devuelve el elemento más antiguo de la cola, pero genera un error si la cola está vacía.\n",
    "- ***task_done()***: indica que se ha terminado de procesar un elemento de la cola.\n",
    "- ***join()***: bloquea hasta que todos los elementos de la cola hayan sido procesados.\n",
    "\n",
    "## Ejercicios"
   ]
  },
  {
   "cell_type": "code",
   "execution_count": null,
   "metadata": {},
   "outputs": [],
   "source": [
    "# Crea una cola llamada cola e introduce los siguientes valores:\n",
    "# 1, 2, 3, 4, 5\n",
    "\n"
   ]
  },
  {
   "cell_type": "code",
   "execution_count": null,
   "metadata": {},
   "outputs": [],
   "source": [
    "# Luego, elimina los dos primeros elementos de la cola y añade los valores 6 y 7. \n",
    "# Finalmente, imprime todos los elementos que quedan en la cola.\n",
    "\n"
   ]
  },
  {
   "cell_type": "code",
   "execution_count": null,
   "metadata": {},
   "outputs": [],
   "source": [
    "# Crea una función llamada imprime_cola(cola) que recibe una cola como argumento e imprime todos los elementos de la cola. \n",
    "# Utiliza el método get() para eliminar los elementos de la cola uno por uno y el bucle while para imprimirlos.\n",
    "\n"
   ]
  },
  {
   "cell_type": "code",
   "execution_count": null,
   "metadata": {},
   "outputs": [],
   "source": [
    "# Crea una cola llamada cola_numeros e introduce los siguientes valores:\n",
    "# 1, 2, 3, 4, 5, 6, 7, 8, 9, 10\n",
    "\n"
   ]
  },
  {
   "cell_type": "code",
   "execution_count": null,
   "metadata": {},
   "outputs": [],
   "source": [
    "# Crea una función llamada suma_cola(cola) que recibe una cola como argumento y devuelve la suma de todos los elementos de la cola. \n",
    "# Utiliza el método get() para eliminar los elementos de la cola uno por uno y el operador + para sumarlos.\n",
    "\n"
   ]
  }
 ],
 "metadata": {
  "kernelspec": {
   "display_name": "Python 3",
   "language": "python",
   "name": "python3"
  },
  "language_info": {
   "name": "python",
   "version": "3.11.0"
  },
  "orig_nbformat": 4,
  "vscode": {
   "interpreter": {
    "hash": "ee6a9f6861ea330318c02b3a6d9efbd1abd8633292b4b7d05428423d063c7051"
   }
  }
 },
 "nbformat": 4,
 "nbformat_minor": 2
}
