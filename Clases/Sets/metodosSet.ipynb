{
 "cells": [
  {
   "attachments": {},
   "cell_type": "markdown",
   "metadata": {},
   "source": [
    "# Sets en Python\n",
    "\n",
    "Un Set (conjunto) es una estructura de datos no ordenada que no admite elementos duplicados. En Python, podemos utilizar la clase set para crear y manipular conjuntos.\n",
    "\n",
    "En esta Notebook, exploraremos algunos de los métodos más comunes para manipular Sets en Python.\n",
    "\n",
    "Métodos de Set\n",
    "\n",
    "- ***add(item)***: agrega un elemento al conjunto.\n",
    "- ***update(iterable)***: agrega varios elementos del iterable al conjunto.\n",
    "- ***remove(item)***: elimina un elemento del conjunto y genera un error si el elemento no está en el conjunto.\n",
    "- ***discard(item)***: elimina un elemento del conjunto si está presente, pero no genera un error si el elemento no está en el conjunto.\n",
    "- ***pop()***: elimina y devuelve un elemento arbitrario del conjunto.\n",
    "- ***clear()***: elimina todos los elementos del conjunto.\n",
    "- ***copy()***: devuelve una copia del conjunto.\n",
    "- ***union(other)***: devuelve un nuevo conjunto que es la unión de este conjunto con otro conjunto.\n",
    "- ***intersection(other)***: devuelve un nuevo conjunto que es la intersección de este conjunto con otro conjunto.\n",
    "- ***difference(other)***: devuelve un nuevo conjunto que es la diferencia de este conjunto con otro conjunto.\n",
    "- ***symmetric_difference(other)***: devuelve un nuevo conjunto que es la diferencia simétrica de este conjunto con otro conjunto.\n",
    "- ***issubset(other)***: devuelve True si este conjunto es un subconjunto de otro conjunto.\n",
    "- ***issuperset(other)***: devuelve True si este conjunto es un superconjunto de otro conjunto.\n",
    "- ***isdisjoint(other)***: devuelve True si este conjunto y otro conjunto no tienen elementos en común.\n",
    "\n",
    "## Ejercicios"
   ]
  },
  {
   "cell_type": "code",
   "execution_count": null,
   "metadata": {},
   "outputs": [],
   "source": [
    "# Crea dos conjuntos llamados set1 y set2 con los siguientes valores:\n",
    "# {1, 2, 3, 4, 5}\n",
    "# {4, 5, 6, 7, 8}\n",
    "\n"
   ]
  },
  {
   "cell_type": "code",
   "execution_count": null,
   "metadata": {},
   "outputs": [],
   "source": [
    "# Crea un tercer conjunto llamado union que contenga la unión de los dos primeros conjuntos.\n",
    "# Crea un cuarto conjunto llamado intersection que contenga la intersección de los dos primeros conjuntos. \n",
    "# Imprime los tres conjuntos.\n",
    "\n"
   ]
  },
  {
   "cell_type": "code",
   "execution_count": null,
   "metadata": {},
   "outputs": [],
   "source": [
    "# Crea una función llamada elimina_repetidos(lista) que recibe una lista como argumento. \n",
    "# Devuelve una nueva lista que contiene los mismos elementos de la lista original, pero sin elementos repetidos. \n",
    "# Utiliza un conjunto para eliminar los elementos duplicados.\n",
    "\n"
   ]
  },
  {
   "cell_type": "code",
   "execution_count": null,
   "metadata": {},
   "outputs": [],
   "source": [
    "# Crea una lista llamada frase con los siguientes valores:\n",
    "# ['hola', 'mundo', 'hola', 'python', 'mundo', 'hola', 'python']\n",
    "\n"
   ]
  },
  {
   "cell_type": "code",
   "execution_count": null,
   "metadata": {},
   "outputs": [],
   "source": [
    "# Crea un conjunto llamado palabras que contenga las palabras únicas de la lista original y ordénalas alfabéticamente. \n",
    "# Utiliza un conjunto para eliminar las palabras duplicadas y el método sorted() para ordenarlas.\n",
    "\n"
   ]
  },
  {
   "cell_type": "markdown",
   "metadata": {},
   "source": []
  }
 ],
 "metadata": {
  "kernelspec": {
   "display_name": "Python 3",
   "language": "python",
   "name": "python3"
  },
  "language_info": {
   "name": "python",
   "version": "3.11.0"
  },
  "orig_nbformat": 4,
  "vscode": {
   "interpreter": {
    "hash": "ee6a9f6861ea330318c02b3a6d9efbd1abd8633292b4b7d05428423d063c7051"
   }
  }
 },
 "nbformat": 4,
 "nbformat_minor": 2
}
