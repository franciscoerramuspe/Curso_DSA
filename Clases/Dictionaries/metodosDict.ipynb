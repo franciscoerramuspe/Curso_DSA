{
 "cells": [
  {
   "attachments": {},
   "cell_type": "markdown",
   "metadata": {},
   "source": [
    "# Metodos de Diccionarios\n",
    "\n",
    "Los diccionarios son una estructura de datos muy útil en Python que permiten almacenar pares clave-valor. En esta Notebook, exploraremos algunos de los métodos más comunes para manipular diccionarios en Python.\n",
    "\n",
    "Métodos de diccionarios\n",
    "\n",
    "- ***clear()***: elimina todas las entradas de un diccionario.\n",
    "- ***copy()***: devuelve una copia superficial (shallow) de un diccionario.\n",
    "- ***fromkeys(seq[, value])***: devuelve un nuevo diccionario con claves de seq y un valor opcional value.\n",
    "- ***get(key[, default])***: devuelve el valor correspondiente a una clave dada. Si la clave no existe en el diccionario, este método devuelve None por defecto o un valor especificado como segundo argumento.\n",
    "- ***items()***: devuelve una vista de los pares clave-valor del diccionario.\n",
    "- ***keys()***: devuelve una vista de las claves del diccionario.\n",
    "- **pop(key[, default])***: elimina y devuelve el valor correspondiente a una clave dada. Si la clave no existe en el diccionario, este método devuelve un valor especificado como segundo argumento o lanza una excepción KeyError si no se especifica un valor por defecto.\n",
    "- ***popitem()***: elimina y devuelve un par clave-valor aleatorio del diccionario. Si el diccionario está vacío, este método lanza una excepción KeyError.\n",
    "- ***setdefault(key[, default])***: devuelve el valor correspondiente a una clave dada. Si la clave no existe en el diccionario, este método la agrega con el valor opcional default.\n",
    "- ***update([other])***: actualiza el diccionario con pares clave-valor de otro diccionario o una lista de tuplas.\n",
    "- ***values()***: devuelve una vista de los valores del diccionario.\n",
    "\n",
    "\n",
    "## Ejercicios"
   ]
  },
  {
   "cell_type": "code",
   "execution_count": null,
   "metadata": {},
   "outputs": [],
   "source": [
    "# Crea un diccionario llamado precios con los siguientes valores:\n",
    "# {'manzanas': 2, 'bananas': 1, 'naranjas': 3, 'peras': 2}\n",
    "\n"
   ]
  },
  {
   "cell_type": "code",
   "execution_count": null,
   "metadata": {},
   "outputs": [],
   "source": [
    "# Agrega una entrada al diccionario con la clave 'uvas' y el valor 4. \n",
    "# Utiliza el método items() para imprimir todas las entradas del diccionario.\n",
    "\n"
   ]
  },
  {
   "cell_type": "code",
   "execution_count": null,
   "metadata": {},
   "outputs": [],
   "source": [
    "# Crea un diccionario llamado inventario con los siguientes valores:\n",
    "# {'manzanas': 10, 'bananas': 5, 'naranjas': 7, 'peras': 15}\n",
    "\n"
   ]
  },
  {
   "cell_type": "code",
   "execution_count": null,
   "metadata": {},
   "outputs": [],
   "source": [
    "# Usa el método update() para agregar al diccionario inventario las entradas del diccionario {'uvas': 20, 'plátanos': 10}. \n",
    "# Luego, utiliza el método pop() para eliminar la entrada correspondiente a 'manzanas'. Imprime el diccionario resultante.\n",
    "\n"
   ]
  },
  {
   "cell_type": "code",
   "execution_count": null,
   "metadata": {},
   "outputs": [],
   "source": [
    "# Crea un diccionario llamado estudiantes con los siguientes valores:\n",
    "# {'Ana': 18, 'Pedro': 20, 'Juan': 19, 'Marta': 18}\n",
    "\n"
   ]
  },
  {
   "cell_type": "code",
   "execution_count": null,
   "metadata": {},
   "outputs": [],
   "source": [
    "# Utiliza el método setdefault() para agregar la entrada 'Luis': 20' al diccionario. \n",
    "# Luego, utiliza un loop for para imprimir todas las\n",
    "\n"
   ]
  }
 ],
 "metadata": {
  "language_info": {
   "name": "python"
  },
  "orig_nbformat": 4
 },
 "nbformat": 4,
 "nbformat_minor": 2
}
