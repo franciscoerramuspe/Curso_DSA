{
 "cells": [
  {
   "attachments": {},
   "cell_type": "markdown",
   "metadata": {},
   "source": [
    "# Graphs en Python\n",
    "\n",
    "## 1. Introducción a la estructura de datos y sus métodos\n",
    "Un grafo es una estructura de datos no lineal utilizada para representar relaciones entre objetos. Consiste en un conjunto de vértices (también conocidos como nodos) y un conjunto de aristas que conectan pares de vértices. Los grafos se utilizan en una variedad de aplicaciones, como redes sociales, rutas de transporte, planificación de proyectos, entre otras.\n",
    "\n",
    "En Python, se pueden representar grafos utilizando diccionarios o listas de adyacencia. En el primer caso, cada clave del diccionario representa un vértice, y el valor es una lista de los vértices adyacentes. En el segundo caso, cada índice de la lista representa un vértice, y el valor es una lista de los vértices adyacentes.\n",
    "\n",
    "## 2. Explicación de cada método\n",
    "\n",
    "### Método 1: add_vertex()\n",
    "\n",
    "Este método agrega un nuevo vértice al grafo. Si el vértice ya existe, el método no hace nada."
   ]
  },
  {
   "cell_type": "code",
   "execution_count": 17,
   "metadata": {},
   "outputs": [],
   "source": [
    "def add_vertex(graph, vertex):\n",
    "    if vertex not in graph:\n",
    "        graph[vertex] = []\n"
   ]
  },
  {
   "attachments": {},
   "cell_type": "markdown",
   "metadata": {},
   "source": [
    "### Método 2: add_edge()\n",
    "Este método agrega una arista entre dos vértices del grafo. Si los vértices no existen, se agregan automáticamente."
   ]
  },
  {
   "cell_type": "code",
   "execution_count": 18,
   "metadata": {},
   "outputs": [],
   "source": [
    "def add_edge(graph, vertex1, vertex2):\n",
    "    add_vertex(graph, vertex1)\n",
    "    add_vertex(graph, vertex2)\n",
    "    graph[vertex1].append(vertex2)\n",
    "    graph[vertex2].append(vertex1)\n"
   ]
  },
  {
   "attachments": {},
   "cell_type": "markdown",
   "metadata": {},
   "source": [
    "### Método 3: depth_first_search()\n",
    "\n",
    "Este método realiza una búsqueda en profundidad en el grafo, empezando desde un vértice dado."
   ]
  },
  {
   "cell_type": "code",
   "execution_count": 19,
   "metadata": {},
   "outputs": [],
   "source": [
    "def depth_first_search(graph, start_vertex):\n",
    "    visited = set()\n",
    "    stack = [start_vertex]\n",
    "    while stack:\n",
    "        vertex = stack.pop()\n",
    "        if vertex not in visited:\n",
    "            visited.add(vertex)\n",
    "            stack.extend(set(graph[vertex]) - visited)\n",
    "    return visited\n"
   ]
  },
  {
   "attachments": {},
   "cell_type": "markdown",
   "metadata": {},
   "source": [
    "### Método 4: breadth_first_search()\n",
    "\n",
    "Este método realiza una búsqueda en amplitud en el grafo, empezando desde un vértice dado."
   ]
  },
  {
   "cell_type": "code",
   "execution_count": 20,
   "metadata": {},
   "outputs": [],
   "source": [
    "def breadth_first_search(graph, start_vertex):\n",
    "    visited = set()\n",
    "    queue = [start_vertex]\n",
    "    while queue:\n",
    "        vertex = queue.pop(0)\n",
    "        if vertex not in visited:\n",
    "            visited.add(vertex)\n",
    "            queue.extend(set(graph[vertex]) - visited)\n",
    "    return visited\n"
   ]
  },
  {
   "attachments": {},
   "cell_type": "markdown",
   "metadata": {},
   "source": [
    "## 3. Ejemplos y ejercicios\n",
    "\n",
    "### Ejemplo 1: Red social\n",
    "\n",
    "Supongamos que tenemos una red social representada como un grafo. Los vértices son usuarios de la red, y las aristas indican amistades. Queremos encontrar el número de amigos de un usuario dado."
   ]
  },
  {
   "cell_type": "code",
   "execution_count": 21,
   "metadata": {},
   "outputs": [
    {
     "name": "stdout",
     "output_type": "stream",
     "text": [
      "Alice tiene 2 amigos.\n"
     ]
    }
   ],
   "source": [
    "# Creamos el grafo\n",
    "social_network = {\n",
    "    'Alice': ['Bob', 'Charlie'],\n",
    "    'Bob': ['Alice', 'Dave'],\n",
    "    'Charlie': ['Alice', 'Dave', 'Eve'],\n",
    "    'Dave': ['Bob', 'Charlie', 'Eve'],\n",
    "    'Eve': ['Charlie', 'Dave']\n",
    "}\n",
    "\n",
    "# Encontramos el número de amigos de Alice\n",
    "num_friends = len(social_network['Alice'])\n",
    "print(f\"Alice tiene {num_friends} amigos.\")\n"
   ]
  },
  {
   "attachments": {},
   "cell_type": "markdown",
   "metadata": {},
   "source": [
    "### Ejemplo 2: Rutas de transporte\n",
    "\n",
    "Supongamos que queremos encontrar el camino más corto entre dos nodos. Tenemos las siguientes estaciones y rutas entre ellas:\n",
    "\n",
    "| Estación | Conexiones | Costo  |\n",
    "| -------- | ---------- | ------ |\n",
    "| A        | B, C, D    | 1      |\n",
    "| B        | A, E       | 2      |\n",
    "| C        | A, D, E    | 3      |\n",
    "| D        | A, C       | 4      |\n",
    "| E        | B, C, F    | 5      |\n",
    "| F        | E, G       | 6      |\n",
    "| G        | F, H       | 7      |\n",
    "| H        | G          | 8      |\n",
    "\n",
    "        \n",
    "Podemos representar este grafo con un diccionario donde cada clave es una estación y su valor es una lista de tuplas. Cada tupla representa una conexión con otra estación y el costo asociado a esa conexión."
   ]
  },
  {
   "cell_type": "code",
   "execution_count": 22,
   "metadata": {},
   "outputs": [],
   "source": [
    "graph = {\n",
    "    'A': [('B', 1), ('C', 1), ('D', 1)],\n",
    "    'B': [('A', 2), ('E', 2)],\n",
    "    'C': [('A', 3), ('D', 3), ('E', 3)],\n",
    "    'D': [('A', 4), ('C', 4)],\n",
    "    'E': [('B', 5), ('C', 5), ('F', 5)],\n",
    "    'F': [('E', 6), ('G', 6)],\n",
    "    'G': [('F', 7), ('H', 7)],\n",
    "    'H': [('G', 8)]\n",
    "}\n"
   ]
  },
  {
   "attachments": {},
   "cell_type": "markdown",
   "metadata": {},
   "source": [
    "Ahora, para buscar la ruta más corta desde la estación 'A' hasta la estación 'H', podemos utilizar BFS. Para hacerlo, necesitamos una cola (queue) y un conjunto para registrar los nodos visitados. La cola se utiliza para almacenar los nodos que aún no se han visitado, y el conjunto se utiliza para evitar visitar los mismos nodos varias veces."
   ]
  },
  {
   "cell_type": "code",
   "execution_count": 23,
   "metadata": {},
   "outputs": [],
   "source": [
    "from collections import deque\n",
    "\n",
    "def bfs_shortest_path(graph, start, end):\n",
    "    queue = deque([(start, [])])\n",
    "    visited = set()\n",
    "    while queue:\n",
    "        node, path = queue.popleft()\n",
    "        if node == end:\n",
    "            return path + [node]\n",
    "        visited.add(node)\n",
    "        for neighbor, cost in graph[node]:\n",
    "            if neighbor not in visited:\n",
    "                queue.append((neighbor, path + [node]))\n",
    "    return None\n"
   ]
  },
  {
   "attachments": {},
   "cell_type": "markdown",
   "metadata": {},
   "source": [
    "Finalmente, podemos llamar a la función bfs_shortest_path para encontrar la ruta más corta desde 'A' hasta 'H' y mostrar el resultado:"
   ]
  },
  {
   "cell_type": "code",
   "execution_count": 24,
   "metadata": {},
   "outputs": [
    {
     "name": "stdout",
     "output_type": "stream",
     "text": [
      "La ruta más corta desde 'A' hasta 'H' es: A -> B -> E -> F -> G -> H\n"
     ]
    }
   ],
   "source": [
    "start = 'A'\n",
    "end = 'H'\n",
    "path = bfs_shortest_path(graph, start, end)\n",
    "if path is not None:\n",
    "    print(f\"La ruta más corta desde '{start}' hasta '{end}' es: {' -> '.join(path)}\")\n",
    "else:\n",
    "    print(f\"No hay ruta desde '{start}' hasta '{end}'\")\n"
   ]
  },
  {
   "attachments": {},
   "cell_type": "markdown",
   "metadata": {},
   "source": [
    "### Ejercicio: Análisis de Redes Sociales\n",
    "\n",
    "Supongamos que tenemos datos de una red social ficticia llamada \"SocialNet\". La red consta de 10 personas, y los datos están en la siguiente forma: una lista de tuplas donde cada tupla representa una conexión entre dos personas (representada por sus ID), y el tercer elemento de la tupla es el peso de la conexión."
   ]
  },
  {
   "cell_type": "code",
   "execution_count": 25,
   "metadata": {},
   "outputs": [],
   "source": [
    "socialnet_data = [(1, 2, 0.9), (1, 3, 0.6), (1, 4, 0.7), (2, 3, 0.4), (2, 4, 0.5), (2, 5, 0.3), \n",
    "                  (3, 4, 0.5), (4, 5, 0.4), (6, 7, 0.6), (7, 8, 0.8), (8, 9, 0.7), (8, 10, 0.9)]\n"
   ]
  },
  {
   "attachments": {},
   "cell_type": "markdown",
   "metadata": {},
   "source": [
    "En este ejercicio, se pide que los estudiantes implementen las siguientes tareas:\n",
    "\n",
    "1. Crear un grafo utilizando los datos de \"SocialNet\". El peso de la conexión debe ser el atributo de la conexión.\n",
    "2. Encontrar la ruta más corta entre los nodos 1 y 5 utilizando el algoritmo de Dijkstra.\n",
    "3. Encontrar los componentes conexos del grafo.\n",
    "4. Encontrar la cantidad de ciclos en el grafo.\n",
    "\n",
    "Puede usar la siguiente función para imprimir el grafo en formato de lista de adyacencia:"
   ]
  },
  {
   "cell_type": "code",
   "execution_count": 26,
   "metadata": {},
   "outputs": [],
   "source": [
    "def print_graph(graph):\n",
    "    for node in graph:\n",
    "        print(node, \"->\", graph[node])\n"
   ]
  },
  {
   "cell_type": "markdown",
   "metadata": {},
   "source": []
  }
 ],
 "metadata": {
  "kernelspec": {
   "display_name": "Python 3",
   "language": "python",
   "name": "python3"
  },
  "language_info": {
   "codemirror_mode": {
    "name": "ipython",
    "version": 3
   },
   "file_extension": ".py",
   "mimetype": "text/x-python",
   "name": "python",
   "nbconvert_exporter": "python",
   "pygments_lexer": "ipython3",
   "version": "3.11.0"
  },
  "orig_nbformat": 4,
  "vscode": {
   "interpreter": {
    "hash": "ee6a9f6861ea330318c02b3a6d9efbd1abd8633292b4b7d05428423d063c7051"
   }
  }
 },
 "nbformat": 4,
 "nbformat_minor": 2
}
